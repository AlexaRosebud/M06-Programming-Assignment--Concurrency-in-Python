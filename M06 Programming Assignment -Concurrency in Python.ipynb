{
 "cells": [
  {
   "cell_type": "markdown",
   "id": "6a6b5e11",
   "metadata": {},
   "source": [
    "13.1 Write the current date as a string to the text file today.txt."
   ]
  },
  {
   "cell_type": "code",
   "execution_count": 1,
   "id": "2599e0e7",
   "metadata": {},
   "outputs": [
    {
     "name": "stdout",
     "output_type": "stream",
     "text": [
      "2022-12-02\n"
     ]
    }
   ],
   "source": [
    "from datetime import date\n",
    "now = date.today()\n",
    "now_str = now.isoformat()\n",
    "with open('today.txt', 'rt') as output:\n",
    "    print(now_str)\n",
    "\n"
   ]
  },
  {
   "cell_type": "markdown",
   "id": "c4e49740",
   "metadata": {},
   "source": [
    "13.2 Read the text file today.txt into the string today_string."
   ]
  },
  {
   "cell_type": "code",
   "execution_count": 2,
   "id": "8630c8be",
   "metadata": {},
   "outputs": [
    {
     "data": {
      "text/plain": [
       "'2022-12-02\\n'"
      ]
     },
     "execution_count": 2,
     "metadata": {},
     "output_type": "execute_result"
    }
   ],
   "source": [
    "with open('today.txt', 'rt') as input:\n",
    "    today_string = input.read()\n",
    "\n",
    "today_string"
   ]
  },
  {
   "cell_type": "markdown",
   "id": "a6b469e9",
   "metadata": {},
   "source": [
    "13.3 Parse the date from today_string."
   ]
  },
  {
   "cell_type": "code",
   "execution_count": 6,
   "id": "870c593f",
   "metadata": {},
   "outputs": [
    {
     "data": {
      "text/plain": [
       "datetime.datetime(2022, 12, 2, 0, 0)"
      ]
     },
     "execution_count": 6,
     "metadata": {},
     "output_type": "execute_result"
    }
   ],
   "source": [
    "from datetime import datetime\n",
    "fmt = '%Y-%m-%d\\n'\n",
    "datetime.strptime(today_string, fmt)"
   ]
  },
  {
   "cell_type": "markdown",
   "id": "6a946fb8",
   "metadata": {},
   "source": [
    "15.1 Use multiprocessing to create three separate processes. Make each one wait a random number of seconds between zero and one, print the current time, and then exit."
   ]
  },
  {
   "cell_type": "code",
   "execution_count": 13,
   "id": "9e1c33ac",
   "metadata": {},
   "outputs": [
    {
     "name": "stdout",
     "output_type": "stream",
     "text": [
      "Today's date and time is 2022-12-02 10:43:51.003323\n",
      "Today's date and time is 2022-12-02 10:43:51.645941\n",
      "Today's date and time is 2022-12-02 10:43:52.283877\n"
     ]
    }
   ],
   "source": [
    "import multiprocessing\n",
    "from datetime import datetime\n",
    "import time\n",
    "import random\n",
    "\n",
    "def print_time():\n",
    "    now = datetime.now()\n",
    "    print(\"Today's date and time is {}\".format(now))\n",
    "    time.sleep(random.random())\n",
    "    \n",
    "if __name__ == '__main__':\n",
    "    proc1 = multiprocessing.Process(target=print_time())\n",
    "    proc2 = multiprocessing.Process(target=print_time())\n",
    "    proc3 = multiprocessing.Process(target=print_time())\n",
    "    proc1.start()\n",
    "    proc2.start()\n",
    "    proc3.start()\n",
    "    proc1.join()\n",
    "    proc2.join()\n",
    "    proc3.join()"
   ]
  }
 ],
 "metadata": {
  "kernelspec": {
   "display_name": "Python 3 (ipykernel)",
   "language": "python",
   "name": "python3"
  },
  "language_info": {
   "codemirror_mode": {
    "name": "ipython",
    "version": 3
   },
   "file_extension": ".py",
   "mimetype": "text/x-python",
   "name": "python",
   "nbconvert_exporter": "python",
   "pygments_lexer": "ipython3",
   "version": "3.10.6"
  }
 },
 "nbformat": 4,
 "nbformat_minor": 5
}
